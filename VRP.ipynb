{
 "cells": [
  {
   "cell_type": "code",
   "execution_count": 1,
   "id": "b8ef8702",
   "metadata": {},
   "outputs": [
    {
     "name": "stdout",
     "output_type": "stream",
     "text": [
      "Requirement already satisfied: gurobipy in c:\\users\\gonza\\anaconda3\\lib\\site-packages (10.0.1)\n",
      "Note: you may need to restart the kernel to use updated packages.\n"
     ]
    }
   ],
   "source": [
    "pip install gurobipy"
   ]
  },
  {
   "cell_type": "code",
   "execution_count": 2,
   "id": "3ec7fc74",
   "metadata": {},
   "outputs": [
    {
     "name": "stdout",
     "output_type": "stream",
     "text": [
      "Requirement already satisfied: pulp in c:\\users\\gonza\\anaconda3\\lib\\site-packages (2.7.0)\n",
      "Note: you may need to restart the kernel to use updated packages.\n"
     ]
    }
   ],
   "source": [
    "pip install pulp"
   ]
  },
  {
   "cell_type": "code",
   "execution_count": 3,
   "id": "fd8a987b",
   "metadata": {},
   "outputs": [],
   "source": [
    "from pulp import *\n",
    "import pandas as pd\n",
    "import matplotlib.pyplot as plt\n",
    "import seaborn as sns; sns.set()\n",
    "import numpy as np\n",
    "from math import sin, cos, sqrt, atan2, radians\n",
    "\n",
    "import warnings\n",
    "warnings.filterwarnings(\"ignore\")"
   ]
  },
  {
   "cell_type": "code",
   "execution_count": 4,
   "id": "78237bd9",
   "metadata": {},
   "outputs": [
    {
     "data": {
      "text/html": [
       "<div>\n",
       "<style scoped>\n",
       "    .dataframe tbody tr th:only-of-type {\n",
       "        vertical-align: middle;\n",
       "    }\n",
       "\n",
       "    .dataframe tbody tr th {\n",
       "        vertical-align: top;\n",
       "    }\n",
       "\n",
       "    .dataframe thead th {\n",
       "        text-align: right;\n",
       "    }\n",
       "</style>\n",
       "<table border=\"1\" class=\"dataframe\">\n",
       "  <thead>\n",
       "    <tr style=\"text-align: right;\">\n",
       "      <th></th>\n",
       "      <th>Latitud</th>\n",
       "      <th>Longitud</th>\n",
       "      <th>Unidades</th>\n",
       "    </tr>\n",
       "    <tr>\n",
       "      <th>Cliente</th>\n",
       "      <th></th>\n",
       "      <th></th>\n",
       "      <th></th>\n",
       "    </tr>\n",
       "  </thead>\n",
       "  <tbody>\n",
       "    <tr>\n",
       "      <th>El Fuerte Villa Zaita</th>\n",
       "      <td>9.076953</td>\n",
       "      <td>-79.523970</td>\n",
       "      <td>20</td>\n",
       "    </tr>\n",
       "    <tr>\n",
       "      <th>Supermercado rey Milla 8</th>\n",
       "      <td>9.071359</td>\n",
       "      <td>-79.515842</td>\n",
       "      <td>30</td>\n",
       "    </tr>\n",
       "    <tr>\n",
       "      <th>Los Andes Mall</th>\n",
       "      <td>9.054300</td>\n",
       "      <td>-79.507796</td>\n",
       "      <td>25</td>\n",
       "    </tr>\n",
       "    <tr>\n",
       "      <th>El Crisol</th>\n",
       "      <td>9.044528</td>\n",
       "      <td>-79.471662</td>\n",
       "      <td>15</td>\n",
       "    </tr>\n",
       "    <tr>\n",
       "      <th>FD-Center</th>\n",
       "      <td>9.025230</td>\n",
       "      <td>-79.509758</td>\n",
       "      <td>10</td>\n",
       "    </tr>\n",
       "    <tr>\n",
       "      <th>Artec</th>\n",
       "      <td>9.032901</td>\n",
       "      <td>-79.511732</td>\n",
       "      <td>15</td>\n",
       "    </tr>\n",
       "  </tbody>\n",
       "</table>\n",
       "</div>"
      ],
      "text/plain": [
       "                           Latitud   Longitud  Unidades\n",
       "Cliente                                                \n",
       "El Fuerte Villa Zaita     9.076953 -79.523970        20\n",
       "Supermercado rey Milla 8  9.071359 -79.515842        30\n",
       "Los Andes Mall            9.054300 -79.507796        25\n",
       "El Crisol                 9.044528 -79.471662        15\n",
       "FD-Center                 9.025230 -79.509758        10\n",
       "Artec                     9.032901 -79.511732        15"
      ]
     },
     "execution_count": 4,
     "metadata": {},
     "output_type": "execute_result"
    }
   ],
   "source": [
    "Entregas = pd.read_excel('Entregas.xlsx', index_col=\"Cliente\" )\n",
    "Entregas.head(10)\n",
    "#print(Entregas.iloc[-1])"
   ]
  },
  {
   "cell_type": "markdown",
   "id": "1ba41a62",
   "metadata": {},
   "source": [
    "### VRP usando GORUBI"
   ]
  },
  {
   "cell_type": "code",
   "execution_count": 5,
   "id": "a4ccdd15",
   "metadata": {},
   "outputs": [
    {
     "data": {
      "text/plain": [
       "(-79.52396987266873, -79.47166249822219, 9.02522951905493, 9.07695323086607)"
      ]
     },
     "execution_count": 5,
     "metadata": {},
     "output_type": "execute_result"
    }
   ],
   "source": [
    "# Crear una cuadrado con limites de nuestro mapa\n",
    "bbox = (Entregas.Longitud.min(), Entregas.Longitud.max(), \n",
    "        Entregas.Latitud.min(), Entregas.Latitud.max())\n",
    "bbox"
   ]
  },
  {
   "cell_type": "code",
   "execution_count": 7,
   "id": "8bb40815",
   "metadata": {},
   "outputs": [
    {
     "data": {
      "image/png": "[encoded data removed]",
      "text/plain": [
       "<Figure size 1000x600 with 1 Axes>"
      ]
     },
     "metadata": {},
     "output_type": "display_data"
    }
   ],
   "source": [
    "# Dibujar la bodega y los clientes\n",
    "fig, ax = plt.subplots(figsize=(10, 6))\n",
    "ax.scatter(Entregas.Longitud, Entregas.Latitud, \n",
    "           zorder=1, c='#0072ce', s=50)\n",
    "ax.scatter(Entregas.iloc[0].Longitud,\n",
    "           Entregas.iloc[0].Latitud,  marker=\"*\", c='r', s=300)\n",
    "# Set x,y limits\n",
    "ax.set_xlim(-79.53750737115854,-79.46087578300474)\n",
    "ax.set_ylim(8.995651387228135,9.100794217041744)\n",
    "ax.imshow(Entregas,extent=(0.0728,0.1509,52.18,52.2324),aspect='equal')\n",
    "ax.grid(False)"
   ]
  },
  {
   "cell_type": "code",
   "execution_count": 8,
   "id": "a2fc353a",
   "metadata": {},
   "outputs": [],
   "source": [
    "n = 5  # numero de clientes"
   ]
  },
  {
   "cell_type": "code",
   "execution_count": 9,
   "id": "d5a18e7a",
   "metadata": {},
   "outputs": [],
   "source": [
    "from math import sin, cos, sqrt, atan2, radians\n",
    "def distance(i, j):\n",
    "    #for i, j in A:\n",
    "# aproximación del radio de la tierra en km\n",
    "        R = 6373.0\n",
    "\n",
    "        lat1 = radians(Entregas.Latitud[i])\n",
    "        lon1 = radians(Entregas.Longitud[i])\n",
    "        lat2 = radians(Entregas.Latitud[j])\n",
    "        lon2 = radians(Entregas.Longitud[j])\n",
    "\n",
    "        dlon = lon2 - lon1\n",
    "        dlat = lat2 - lat1\n",
    "\n",
    "        a = sin(dlat / 2)**2 + cos(lat1) * cos(lat2) * sin(dlon / 2)**2\n",
    "        c = 2 * atan2(sqrt(a), sqrt(1 - a))\n",
    "\n",
    "        return R * c\n",
    "\n",
    "#print(\"Result:\", distance)\n",
    "#print(\"Should be:\", 278.546, \"km\")"
   ]
  },
  {
   "cell_type": "code",
   "execution_count": 10,
   "id": "68119933",
   "metadata": {},
   "outputs": [
    {
     "name": "stdout",
     "output_type": "stream",
     "text": [
      "{(0, 1): 1.088178429393563, (0, 2): 3.083053140226588, (0, 3): 6.783729368328147, (0, 4): 5.9612664099307615, (0, 5): 5.080982940982148, (1, 0): 1.088178429393563, (1, 2): 2.093250744351599, (1, 3): 5.6970555699027905, (1, 4): 5.174352786279583, (1, 5): 4.301476778273124, (2, 0): 3.083053140226588, (2, 1): 2.093250744351599, (2, 3): 4.11521245186654, (2, 4): 3.240657525890884, (2, 5): 2.4191401896132554, (3, 0): 6.783729368328147, (3, 1): 5.6970555699027905, (3, 2): 4.11521245186654, (3, 4): 4.703185503303773, (3, 5): 4.587624297350155, (4, 0): 5.9612664099307615, (4, 1): 5.174352786279583, (4, 2): 3.240657525890884, (4, 3): 4.703185503303773, (4, 5): 0.8804169906405367, (5, 0): 5.080982940982148, (5, 1): 4.301476778273124, (5, 2): 2.4191401896132554, (5, 3): 4.587624297350155, (5, 4): 0.8804169906405367}\n"
     ]
    }
   ],
   "source": [
    "# aproximación del radio de la tierra en km\n",
    "R = 6373.0\n",
    "\n",
    "N = [i for i in range(1, n+1)] #Set de clientes\n",
    "V = [0] + N # set de nodos\n",
    "A = [(i, j) for i in V for j in V if i != j] #Set de arcos\n",
    "c = {(i, j): distance(i, j) for i, j in A} #Costo de viajar por estos arcos (En nuestro caso es la distancia)\n",
    "Q = 40 #Capacidad de los vehículos\n",
    "q = {i: Entregas.Unidades[i] for i in N} #La demanda de cada cliente\n",
    "#print(A)\n",
    "print(c)"
   ]
  },
  {
   "cell_type": "code",
   "execution_count": 11,
   "id": "0d662bbb",
   "metadata": {},
   "outputs": [],
   "source": [
    "from gurobipy import Model, GRB, quicksum"
   ]
  },
  {
   "cell_type": "code",
   "execution_count": 12,
   "id": "050246d9",
   "metadata": {},
   "outputs": [
    {
     "name": "stdout",
     "output_type": "stream",
     "text": [
      "Restricted license - for non-production use only - expires 2024-10-28\n"
     ]
    }
   ],
   "source": [
    "mdl = Model('CVRP')"
   ]
  },
  {
   "cell_type": "code",
   "execution_count": 13,
   "id": "68e0a71b",
   "metadata": {},
   "outputs": [],
   "source": [
    "x = mdl.addVars(A, vtype=GRB.BINARY) #Agregar arcos al modelo\n",
    "u = mdl.addVars(N, vtype=GRB.CONTINUOUS) #Agregar clientes"
   ]
  },
  {
   "cell_type": "code",
   "execution_count": 14,
   "id": "63996877",
   "metadata": {},
   "outputs": [],
   "source": [
    "mdl.modelSense = GRB.MINIMIZE\n",
    "mdl.setObjective(quicksum(x[i, j]*c[i, j] for i, j in A))"
   ]
  },
  {
   "cell_type": "code",
   "execution_count": 15,
   "id": "20d40abf",
   "metadata": {},
   "outputs": [
    {
     "data": {
      "text/plain": [
       "{1: <gurobi.Constr *Awaiting Model Update*>,\n",
       " 2: <gurobi.Constr *Awaiting Model Update*>,\n",
       " 3: <gurobi.Constr *Awaiting Model Update*>,\n",
       " 4: <gurobi.Constr *Awaiting Model Update*>,\n",
       " 5: <gurobi.Constr *Awaiting Model Update*>}"
      ]
     },
     "execution_count": 15,
     "metadata": {},
     "output_type": "execute_result"
    }
   ],
   "source": [
    "mdl.addConstrs(quicksum(x[i, j] for j in V if j != i) == 1 for i in N)\n",
    "mdl.addConstrs(quicksum(x[i, j] for i in V if i != j) == 1 for j in N)\n",
    "mdl.addConstrs((x[i, j] == 1) >> (u[i]+q[j] == u[j])\n",
    "               for i, j in A if i != 0 and j != 0)\n",
    "mdl.addConstrs(u[i] >= q[i] for i in N)\n",
    "mdl.addConstrs(u[i] <= Q for i in N)"
   ]
  },
  {
   "cell_type": "code",
   "execution_count": 16,
   "id": "4dbe3e7f",
   "metadata": {},
   "outputs": [
    {
     "name": "stdout",
     "output_type": "stream",
     "text": [
      "Set parameter MIPGap to value 0.1\n",
      "Set parameter TimeLimit to value 30\n",
      "Gurobi Optimizer version 10.0.1 build v10.0.1rc0 (win64)\n",
      "\n",
      "CPU model: Intel(R) Core(TM) i5-1035G1 CPU @ 1.00GHz, instruction set [SSE2|AVX|AVX2|AVX512]\n",
      "Thread count: 4 physical cores, 8 logical processors, using up to 8 threads\n",
      "\n",
      "Optimize a model with 20 rows, 35 columns and 60 nonzeros\n",
      "Model fingerprint: 0xf9c32a04\n",
      "Model has 20 general constraints\n",
      "Variable types: 5 continuous, 30 integer (30 binary)\n",
      "Coefficient statistics:\n",
      "  Matrix range     [1e+00, 1e+00]\n",
      "  Objective range  [9e-01, 7e+00]\n",
      "  Bounds range     [1e+00, 1e+00]\n",
      "  RHS range        [1e+00, 4e+01]\n",
      "  GenCon rhs range [1e+01, 3e+01]\n",
      "  GenCon coe range [1e+00, 1e+00]\n",
      "Presolve added 10 rows and 0 columns\n",
      "Presolve removed 0 rows and 14 columns\n",
      "Presolve time: 0.02s\n",
      "Presolved: 30 rows, 21 columns, 143 nonzeros\n",
      "Variable types: 7 continuous, 14 integer (14 binary)\n",
      "Found heuristic solution: objective 36.3677585\n",
      "\n",
      "Root relaxation: objective 1.851369e+01, 12 iterations, 0.00 seconds (0.00 work units)\n",
      "\n",
      "    Nodes    |    Current Node    |     Objective Bounds      |     Work\n",
      " Expl Unexpl |  Obj  Depth IntInf | Incumbent    BestBd   Gap | It/Node Time\n",
      "\n",
      "     0     0   18.51369    0    6   36.36776   18.51369  49.1%     -    0s\n",
      "H    0     0                      26.5555002   18.51369  30.3%     -    0s\n",
      "H    0     0                      25.7907779   18.51369  28.2%     -    0s\n",
      "     0     0   25.51946    0    7   25.79078   25.51946  1.05%     -    0s\n",
      "\n",
      "Cutting planes:\n",
      "  Gomory: 2\n",
      "\n",
      "Explored 1 nodes (17 simplex iterations) in 0.15 seconds (0.00 work units)\n",
      "Thread count was 8 (of 8 available processors)\n",
      "\n",
      "Solution count 3: 25.7908 26.5555 36.3678 \n",
      "\n",
      "Optimal solution found (tolerance 1.00e-01)\n",
      "Best objective 2.579077794249e+01, best bound 2.551946158906e+01, gap 1.0520%\n"
     ]
    }
   ],
   "source": [
    "mdl.Params.MIPGap = 0.1\n",
    "mdl.Params.TimeLimit = 30  # seconds\n",
    "mdl.optimize()"
   ]
  },
  {
   "cell_type": "code",
   "execution_count": 17,
   "id": "7e9fbe5c",
   "metadata": {},
   "outputs": [],
   "source": [
    "active_arcs = [a for a in A if x[a].x > 0.99]"
   ]
  },
  {
   "cell_type": "code",
   "execution_count": 18,
   "id": "4c0b2aeb",
   "metadata": {
    "scrolled": false
   },
   "outputs": [
    {
     "data": {
      "image/png": "[encoded data removed]",
      "text/plain": [
       "<Figure size 640x480 with 1 Axes>"
      ]
     },
     "metadata": {},
     "output_type": "display_data"
    }
   ],
   "source": [
    "#for i in range(Entregas.shape[0]):\n",
    "#    plt.text(x=np.log(Entregas.Latitud[i]),y=np.log(Entregas.Longitud[i]),s=Entregas.Unidades[i])\n",
    "for i, j in active_arcs:\n",
    "    plt.plot( [Entregas.Longitud[i], Entregas.Longitud[j]],[Entregas.Latitud[i], Entregas.Latitud[j]], c='g', zorder=0)\n",
    "for i in N:\n",
    "    plt.annotate('$q_%d=%d$' % (i, q[i]), (Entregas.Longitud[i]+2, Entregas.Latitud[i]))\n",
    "plt.plot(Entregas.Longitud[0], Entregas.Latitud[0], c='r', marker='s')\n",
    "plt.scatter( Entregas.Longitud[1:], Entregas.Latitud[1:], c='b')\n",
    "for i in N:\n",
    "    plt.annotate('$q_%d=%d$' % (i, q[i]), (Entregas.Longitud[i]+2, Entregas.Latitud[i]))"
   ]
  }
 ],
 "metadata": {
  "kernelspec": {
   "display_name": "Python 3 (ipykernel)",
   "language": "python",
   "name": "python3"
  },
  "language_info": {
   "codemirror_mode": {
    "name": "ipython",
    "version": 3
   },
   "file_extension": ".py",
   "mimetype": "text/x-python",
   "name": "python",
   "nbconvert_exporter": "python",
   "pygments_lexer": "ipython3",
   "version": "3.10.9"
  }
 },
 "nbformat": 4,
 "nbformat_minor": 5
}
